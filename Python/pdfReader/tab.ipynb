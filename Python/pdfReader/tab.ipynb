{
 "cells": [
  {
   "cell_type": "code",
   "execution_count": 3,
   "metadata": {},
   "outputs": [
    {
     "name": "stdout",
     "output_type": "stream",
     "text": [
      "  R1,Col1  Col2  Col3\n",
      "0      R2   NaN   NaN\n",
      "1      R3   NaN   NaN\n",
      "2      R4   NaN   NaN\n",
      "3      R5   NaN   NaN\n",
      "4      R6   NaN   NaN\n",
      "5      R7   NaN   NaN\n",
      "6      R8   NaN   NaN\n"
     ]
    }
   ],
   "source": [
    "import tabula\n",
    "df = tabula.read_pdf('R1.pdf',pages = \"all\")\n",
    "print(df[0])"
   ]
  }
 ],
 "metadata": {
  "kernelspec": {
   "display_name": "Python 3.8.2 32-bit",
   "language": "python",
   "name": "python3"
  },
  "language_info": {
   "codemirror_mode": {
    "name": "ipython",
    "version": 3
   },
   "file_extension": ".py",
   "mimetype": "text/x-python",
   "name": "python",
   "nbconvert_exporter": "python",
   "pygments_lexer": "ipython3",
   "version": "3.8.2"
  },
  "orig_nbformat": 4,
  "vscode": {
   "interpreter": {
    "hash": "6c13ae44616a2b604e41a10e4087f5a76280f07b1084ec933c6c6964cc91d6ad"
   }
  }
 },
 "nbformat": 4,
 "nbformat_minor": 2
}
